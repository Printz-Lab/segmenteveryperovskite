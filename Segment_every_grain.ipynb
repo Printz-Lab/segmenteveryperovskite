{
 "cells": [
  {
   "cell_type": "markdown",
   "id": "95a8f02b",
   "metadata": {},
   "source": [
    "## Import packages"
   ]
  },
  {
   "cell_type": "code",
   "execution_count": 1,
   "id": "f2ebc518",
   "metadata": {
    "execution": {
     "iopub.execute_input": "2025-01-24T02:02:13.455303Z",
     "iopub.status.busy": "2025-01-24T02:02:13.454797Z",
     "iopub.status.idle": "2025-01-24T02:02:13.467341Z",
     "shell.execute_reply": "2025-01-24T02:02:13.466505Z",
     "shell.execute_reply.started": "2025-01-24T02:02:13.455259Z"
    }
   },
   "outputs": [
    {
     "name": "stderr",
     "output_type": "stream",
     "text": [
      "2025-04-21 16:59:23.565887: E external/local_xla/xla/stream_executor/cuda/cuda_fft.cc:477] Unable to register cuFFT factory: Attempting to register factory for plugin cuFFT when one has already been registered\n",
      "WARNING: All log messages before absl::InitializeLog() is called are written to STDERR\n",
      "E0000 00:00:1745279963.577414   32361 cuda_dnn.cc:8310] Unable to register cuDNN factory: Attempting to register factory for plugin cuDNN when one has already been registered\n",
      "E0000 00:00:1745279963.581013   32361 cuda_blas.cc:1418] Unable to register cuBLAS factory: Attempting to register factory for plugin cuBLAS when one has already been registered\n",
      "2025-04-21 16:59:23.592886: I tensorflow/core/platform/cpu_feature_guard.cc:210] This TensorFlow binary is optimized to use available CPU instructions in performance-critical operations.\n",
      "To enable the following instructions: AVX2 FMA, in other operations, rebuild TensorFlow with the appropriate compiler flags.\n"
     ]
    }
   ],
   "source": [
    "import cv2\n",
    "from keras.utils import load_img\n",
    "from keras.saving import load_model\n",
    "import matplotlib.pyplot as plt\n",
    "import numpy as np\n",
    "import pandas as pd\n",
    "from segment_anything import sam_model_registry, SamPredictor\n",
    "from skimage.measure import regionprops, regionprops_table\n",
    "from tqdm import trange, tqdm\n",
    "\n",
    "import segmenteverygrain as seg\n",
    "\n",
    "%matplotlib qt"
   ]
  },
  {
   "cell_type": "markdown",
   "id": "f474ac20",
   "metadata": {},
   "source": [
    "## Load models"
   ]
  },
  {
   "cell_type": "code",
   "execution_count": 2,
   "id": "fe1bd2bc",
   "metadata": {
    "execution": {
     "iopub.execute_input": "2025-01-24T02:02:15.162313Z",
     "iopub.status.busy": "2025-01-24T02:02:15.162156Z",
     "iopub.status.idle": "2025-01-24T02:02:17.772801Z",
     "shell.execute_reply": "2025-01-24T02:02:17.772432Z",
     "shell.execute_reply.started": "2025-01-24T02:02:15.162300Z"
    }
   },
   "outputs": [
    {
     "name": "stderr",
     "output_type": "stream",
     "text": [
      "2025-04-21 16:59:28.761006: E external/local_xla/xla/stream_executor/cuda/cuda_driver.cc:152] failed call to cuInit: INTERNAL: CUDA error: Failed call to cuInit: UNKNOWN ERROR (303)\n"
     ]
    }
   ],
   "source": [
    "# UNET model\n",
    "unet = load_model(\n",
    "    \"./models/seg_model.keras\",\n",
    "    custom_objects={'weighted_crossentropy': seg.weighted_crossentropy})\n",
    "\n",
    "# SAM checkpoints. Download from:\n",
    "# https://dl.fbaipublicfiles.com/segment_anything/sam_vit_h_4b8939.pth\n",
    "sam = sam_model_registry[\"default\"](\n",
    "    checkpoint=\"./models/sam_vit_h_4b8939.pth\")"
   ]
  },
  {
   "cell_type": "markdown",
   "id": "a3c1dfc6",
   "metadata": {},
   "source": [
    "## Run segmentation\n",
    "\n",
    "Grains are supposed to be well defined in the image; e.g., if a grain consists of only a few pixels, it is unlikely to be detected.\n",
    "\n",
    "The segmentation can take a few minutes even for medium-sized images. Images with ~2000 pixels along their largest dimension are a good start and allow the user to get an idea about how well the segmentation works.\n",
    "\n",
    "If you have a much larger image, see the section **\"Run segmentation on large image\"** at the end of the notebook. Running the `predict_large_image` function takes a lot longer (e.g., several hours), but it is possible to analyze very large images with tens of thousands of grains.\n",
    "\n",
    "Image used below is available from [here](https://github.com/zsylvester/segmenteverygrain/blob/main/torrey_pines_beach_image.jpeg)."
   ]
  },
  {
   "cell_type": "code",
   "execution_count": null,
   "id": "94bf3f94",
   "metadata": {
    "execution": {
     "iopub.execute_input": "2025-01-24T02:03:31.981893Z",
     "iopub.status.busy": "2025-01-24T02:03:31.981476Z",
     "iopub.status.idle": "2025-01-24T02:03:35.515711Z",
     "shell.execute_reply": "2025-01-24T02:03:35.515383Z",
     "shell.execute_reply.started": "2025-01-24T02:03:31.981864Z"
    }
   },
   "outputs": [
    {
     "name": "stdout",
     "output_type": "stream",
     "text": [
      "segmenting image tiles...\n"
     ]
    },
    {
     "name": "stderr",
     "output_type": "stream",
     "text": [
      "100%|██████████| 7/7 [00:02<00:00,  2.77it/s]\n",
      "100%|██████████| 6/6 [00:01<00:00,  3.12it/s]\n"
     ]
    }
   ],
   "source": [
    "# replace this with the path to your image:\n",
    "fname = './examples/torrey_pines_beach/torrey_pines_beach_image.jpg'\n",
    "image = np.array(load_img(fname))\n",
    "image_pred = seg.predict_image(image, unet, I=256)\n",
    "\n",
    "# decreasing the 'dbs_max_dist' parameter results in more SAM prompts\n",
    "# (and longer processing times):\n",
    "labels, coords = seg.label_grains(image, image_pred, dbs_max_dist=20.0)"
   ]
  },
  {
   "cell_type": "markdown",
   "id": "7c091d4c",
   "metadata": {},
   "source": [
    "Use the figure created in the next cell to check the quality of the Unet labeling (sometimes it doesn't work at all) and the distribution of SAM prompts (= black dots). If the Unet prediction is of poor quality, it is a good idea to create some training data and fine tune the base model so that it works better with the images of interest."
   ]
  },
  {
   "cell_type": "code",
   "execution_count": 4,
   "id": "e031a13f",
   "metadata": {
    "execution": {
     "iopub.execute_input": "2025-01-24T02:03:45.748777Z",
     "iopub.status.busy": "2025-01-24T02:03:45.748389Z",
     "iopub.status.idle": "2025-01-24T02:03:45.798745Z",
     "shell.execute_reply": "2025-01-24T02:03:45.798264Z",
     "shell.execute_reply.started": "2025-01-24T02:03:45.748746Z"
    }
   },
   "outputs": [],
   "source": [
    "fig, ax = plt.subplots(figsize=(15,10))\n",
    "ax.imshow(image_pred)\n",
    "plt.scatter(np.array(coords)[:,0], np.array(coords)[:,1], c='k')\n",
    "plt.xticks([])\n",
    "plt.yticks([]);"
   ]
  },
  {
   "cell_type": "code",
   "execution_count": null,
   "id": "99bcedac-6a3f-4f1d-97a9-b167fa14994c",
   "metadata": {
    "execution": {
     "iopub.execute_input": "2025-01-24T02:03:49.103280Z",
     "iopub.status.busy": "2025-01-24T02:03:49.102880Z",
     "iopub.status.idle": "2025-01-24T02:04:48.394323Z",
     "shell.execute_reply": "2025-01-24T02:04:48.393986Z",
     "shell.execute_reply.started": "2025-01-24T02:03:49.103248Z"
    }
   },
   "outputs": [
    {
     "name": "stdout",
     "output_type": "stream",
     "text": [
      "creating masks using SAM...\n"
     ]
    },
    {
     "name": "stderr",
     "output_type": "stream",
     "text": [
      "100%|██████████| 1041/1041 [01:03<00:00, 16.37it/s]\n"
     ]
    },
    {
     "name": "stdout",
     "output_type": "stream",
     "text": [
      "finding overlapping polygons...\n"
     ]
    },
    {
     "name": "stderr",
     "output_type": "stream",
     "text": [
      "1041it [00:06, 160.79it/s]\n"
     ]
    },
    {
     "name": "stdout",
     "output_type": "stream",
     "text": [
      "finding best polygons...\n"
     ]
    },
    {
     "name": "stderr",
     "output_type": "stream",
     "text": [
      "100%|██████████| 394/394 [00:12<00:00, 31.68it/s]\n"
     ]
    },
    {
     "name": "stdout",
     "output_type": "stream",
     "text": [
      "creating labeled image...\n"
     ]
    },
    {
     "name": "stderr",
     "output_type": "stream",
     "text": [
      "100%|██████████| 467/467 [00:03<00:00, 152.18it/s]\n"
     ]
    }
   ],
   "source": [
    "# SAM segmentation, using the point prompts from the Unet:\n",
    "all_grains, labels, mask_all, grain_data, fig, ax = seg.sam_segmentation(\n",
    "    sam, image, image_pred, coords, labels, \n",
    "    min_area=400.0, plot_image=True, \n",
    "    remove_edge_grains=False, remove_large_objects=False)"
   ]
  },
  {
   "cell_type": "markdown",
   "id": "968737c4",
   "metadata": {},
   "source": [
    "## Delete or merge grains in segmentation result\n",
    "* click on the grain that you want to remove and press the 'x' key\n",
    "* click on two grains that you want to merge and press the 'm' key (they have to be the last two grains you clicked on)\n",
    "* press the 'g' key to hide the grain masks (so that you can see the original image better); press the 'g' key again to show the grain masks"
   ]
  },
  {
   "cell_type": "code",
   "execution_count": 6,
   "id": "e1761761",
   "metadata": {
    "execution": {
     "iopub.execute_input": "2024-12-18T18:02:27.598014Z",
     "iopub.status.busy": "2024-12-18T18:02:27.597195Z",
     "iopub.status.idle": "2024-12-18T18:02:27.605451Z",
     "shell.execute_reply": "2024-12-18T18:02:27.604241Z",
     "shell.execute_reply.started": "2024-12-18T18:02:27.597958Z"
    }
   },
   "outputs": [],
   "source": [
    "grain_inds = []\n",
    "cid1 = fig.canvas.mpl_connect('button_press_event', \n",
    "    lambda event: seg.onclick2(event, all_grains, grain_inds, ax=ax))\n",
    "cid2 = fig.canvas.mpl_connect('key_press_event', \n",
    "    lambda event: seg.onpress2(event, all_grains, grain_inds, fig=fig, ax=ax))"
   ]
  },
  {
   "cell_type": "markdown",
   "id": "5d08448d",
   "metadata": {},
   "source": [
    "Run this cell if you do not want to delete / merge existing grains anymore; it is a good idea to do this before moving on to the next step."
   ]
  },
  {
   "cell_type": "code",
   "execution_count": 7,
   "id": "8b6987ae",
   "metadata": {
    "execution": {
     "iopub.execute_input": "2024-12-15T21:24:54.477942Z",
     "iopub.status.busy": "2024-12-15T21:24:54.477512Z",
     "iopub.status.idle": "2024-12-15T21:24:54.481767Z",
     "shell.execute_reply": "2024-12-15T21:24:54.480821Z",
     "shell.execute_reply.started": "2024-12-15T21:24:54.477906Z"
    }
   },
   "outputs": [],
   "source": [
    "fig.canvas.mpl_disconnect(cid1)\n",
    "fig.canvas.mpl_disconnect(cid2)"
   ]
  },
  {
   "cell_type": "markdown",
   "id": "b1ef7d75",
   "metadata": {},
   "source": [
    "Use this function to update the 'labels' array after deleting and merging grains (the 'all_grains' list is updated when doing the deletion and merging):"
   ]
  },
  {
   "cell_type": "code",
   "execution_count": 8,
   "id": "9f7b8082",
   "metadata": {
    "execution": {
     "iopub.execute_input": "2024-12-18T18:03:01.460474Z",
     "iopub.status.busy": "2024-12-18T18:03:01.459947Z",
     "iopub.status.idle": "2024-12-18T18:03:02.076969Z",
     "shell.execute_reply": "2024-12-18T18:03:02.076500Z",
     "shell.execute_reply.started": "2024-12-18T18:03:01.460440Z"
    }
   },
   "outputs": [
    {
     "name": "stderr",
     "output_type": "stream",
     "text": [
      "100%|██████████| 467/467 [00:00<00:00, 1381.18it/s]\n",
      "467it [00:00, 643.95it/s]\n"
     ]
    }
   ],
   "source": [
    "all_grains, labels, mask_all = seg.get_grains_from_patches(ax, image)"
   ]
  },
  {
   "cell_type": "markdown",
   "id": "36ca344c",
   "metadata": {},
   "source": [
    "Plot the updated set of grains:"
   ]
  },
  {
   "cell_type": "code",
   "execution_count": null,
   "id": "7e0f7f02",
   "metadata": {
    "execution": {
     "iopub.execute_input": "2024-12-18T18:07:24.133192Z",
     "iopub.status.busy": "2024-12-18T18:07:24.132645Z",
     "iopub.status.idle": "2024-12-18T18:07:25.415541Z",
     "shell.execute_reply": "2024-12-18T18:07:25.415222Z",
     "shell.execute_reply.started": "2024-12-18T18:07:24.133157Z"
    }
   },
   "outputs": [
    {
     "name": "stderr",
     "output_type": "stream",
     "text": [
      "100%|██████████| 467/467 [00:03<00:00, 153.36it/s]\n"
     ]
    }
   ],
   "source": [
    "fig, ax = plt.subplots(figsize=(15,10))\n",
    "plt.xticks([])\n",
    "plt.yticks([])\n",
    "seg.plot_image_w_colorful_grains(\n",
    "    image, all_grains, ax, cmap='Paired', plot_image=True)\n",
    "seg.plot_grain_axes_and_centroids(\n",
    "    all_grains, labels, ax, linewidth=1, markersize=10)\n",
    "plt.xlim([0, np.shape(image)[1]])\n",
    "plt.ylim([np.shape(image)[0], 0]);"
   ]
  },
  {
   "cell_type": "markdown",
   "id": "ab7201a5",
   "metadata": {},
   "source": [
    "## Add new grains using the Segment Anything Model\n",
    "\n",
    "* click on unsegmented grain that you want to add\n",
    "* press the 'x' key if you want to delete the last grain you added\n",
    "* press the 'm' key if you want to merge the last two grains that you added\n",
    "* right click outside the grain (but inside the most recent mask) if you want to restrict the grain to a smaller mask - this adds a background prompt"
   ]
  },
  {
   "cell_type": "code",
   "execution_count": null,
   "id": "04b1a138",
   "metadata": {
    "execution": {
     "iopub.execute_input": "2024-12-18T18:07:32.551544Z",
     "iopub.status.busy": "2024-12-18T18:07:32.550976Z",
     "iopub.status.idle": "2024-12-18T18:07:39.634692Z",
     "shell.execute_reply": "2024-12-18T18:07:39.634152Z",
     "shell.execute_reply.started": "2024-12-18T18:07:32.551496Z"
    }
   },
   "outputs": [],
   "source": [
    "predictor = SamPredictor(sam)\n",
    "predictor.set_image(image) # this can take a while\n",
    "coords = []\n",
    "cid3 = fig.canvas.mpl_connect('button_press_event',\n",
    "    lambda event: seg.onclick(event, ax, coords, image, predictor))\n",
    "cid4 = fig.canvas.mpl_connect('key_press_event',\n",
    "    lambda event: seg.onpress(event, ax, fig))"
   ]
  },
  {
   "cell_type": "code",
   "execution_count": 11,
   "id": "02386a92",
   "metadata": {
    "execution": {
     "iopub.execute_input": "2024-12-18T18:08:01.061958Z",
     "iopub.status.busy": "2024-12-18T18:08:01.061409Z",
     "iopub.status.idle": "2024-12-18T18:08:01.066268Z",
     "shell.execute_reply": "2024-12-18T18:08:01.065589Z",
     "shell.execute_reply.started": "2024-12-18T18:08:01.061922Z"
    }
   },
   "outputs": [],
   "source": [
    "fig.canvas.mpl_disconnect(cid3)\n",
    "fig.canvas.mpl_disconnect(cid4)"
   ]
  },
  {
   "cell_type": "markdown",
   "id": "6ae4b89a",
   "metadata": {},
   "source": [
    "After you are done with the deletion / addition of grain masks, run this cell to generate an updated set of grains:"
   ]
  },
  {
   "cell_type": "code",
   "execution_count": 12,
   "id": "4355b526",
   "metadata": {
    "execution": {
     "iopub.execute_input": "2024-12-18T18:08:04.200106Z",
     "iopub.status.busy": "2024-12-18T18:08:04.199532Z",
     "iopub.status.idle": "2024-12-18T18:08:04.836426Z",
     "shell.execute_reply": "2024-12-18T18:08:04.836028Z",
     "shell.execute_reply.started": "2024-12-18T18:08:04.200058Z"
    }
   },
   "outputs": [
    {
     "name": "stderr",
     "output_type": "stream",
     "text": [
      "100%|██████████| 467/467 [00:00<00:00, 1350.03it/s]\n",
      "467it [00:00, 647.83it/s]\n"
     ]
    }
   ],
   "source": [
    "all_grains, labels, mask_all = seg.get_grains_from_patches(ax, image)"
   ]
  },
  {
   "cell_type": "markdown",
   "id": "768a05d2",
   "metadata": {},
   "source": [
    "## Get grain size distribution"
   ]
  },
  {
   "cell_type": "markdown",
   "id": "96892a89",
   "metadata": {},
   "source": [
    "Run this cell and then click (left mouse button) on one end of the scale bar in the image and click (right mouse button) on the other end of the scale bar:"
   ]
  },
  {
   "cell_type": "code",
   "execution_count": null,
   "id": "869c6cd4",
   "metadata": {
    "execution": {
     "iopub.execute_input": "2024-12-15T21:26:15.570070Z",
     "iopub.status.busy": "2024-12-15T21:26:15.569536Z",
     "iopub.status.idle": "2024-12-15T21:26:15.575163Z",
     "shell.execute_reply": "2024-12-15T21:26:15.574027Z",
     "shell.execute_reply.started": "2024-12-15T21:26:15.570031Z"
    }
   },
   "outputs": [],
   "source": [
    "cid5 = fig.canvas.mpl_connect('button_press_event',\n",
    "    lambda event: seg.click_for_scale(event, ax))"
   ]
  },
  {
   "cell_type": "markdown",
   "id": "658e2f0a",
   "metadata": {},
   "source": [
    "Use the length of the scale bar in pixels (it should be printed above) to get the scale of the image (in units / pixel):"
   ]
  },
  {
   "cell_type": "code",
   "execution_count": null,
   "id": "7893cfb7",
   "metadata": {
    "execution": {
     "iopub.execute_input": "2024-12-15T21:26:57.052558Z",
     "iopub.status.busy": "2024-12-15T21:26:57.051935Z",
     "iopub.status.idle": "2024-12-15T21:26:57.057658Z",
     "shell.execute_reply": "2024-12-15T21:26:57.056523Z",
     "shell.execute_reply.started": "2024-12-15T21:26:57.052520Z"
    }
   },
   "outputs": [],
   "source": [
    "n_of_units = 10.59\n",
    "units_per_pixel = n_of_units / 507.96 # length of scale bar in pixels"
   ]
  },
  {
   "cell_type": "code",
   "execution_count": 15,
   "id": "b56c5732",
   "metadata": {
    "execution": {
     "iopub.execute_input": "2024-12-15T21:26:58.475036Z",
     "iopub.status.busy": "2024-12-15T21:26:58.474619Z",
     "iopub.status.idle": "2024-12-15T21:26:58.843901Z",
     "shell.execute_reply": "2024-12-15T21:26:58.843528Z",
     "shell.execute_reply.started": "2024-12-15T21:26:58.475005Z"
    }
   },
   "outputs": [],
   "source": [
    "props = regionprops_table(labels.astype('int'), intensity_image = image, properties =\\\n",
    "        ('label', 'area', 'centroid', 'major_axis_length', 'minor_axis_length', \n",
    "         'orientation', 'perimeter', 'max_intensity', 'mean_intensity', 'min_intensity'))\n",
    "grain_data = pd.DataFrame(props)\n",
    "grain_data['major_axis_length'] = grain_data['major_axis_length'].values*units_per_pixel\n",
    "grain_data['minor_axis_length'] = grain_data['minor_axis_length'].values*units_per_pixel\n",
    "grain_data['perimeter'] = grain_data['perimeter'].values*units_per_pixel\n",
    "grain_data['area'] = grain_data['area'].values*units_per_pixel**2"
   ]
  },
  {
   "cell_type": "code",
   "execution_count": 16,
   "id": "202f5650",
   "metadata": {
    "execution": {
     "iopub.execute_input": "2024-12-15T21:27:05.113040Z",
     "iopub.status.busy": "2024-12-15T21:27:05.112674Z",
     "iopub.status.idle": "2024-12-15T21:27:05.134670Z",
     "shell.execute_reply": "2024-12-15T21:27:05.134248Z",
     "shell.execute_reply.started": "2024-12-15T21:27:05.113013Z"
    }
   },
   "outputs": [
    {
     "data": {
      "application/vnd.microsoft.datawrangler.viewer.v0+json": {
       "columns": [
        {
         "name": "index",
         "rawType": "int64",
         "type": "integer"
        },
        {
         "name": "label",
         "rawType": "int64",
         "type": "integer"
        },
        {
         "name": "area",
         "rawType": "float64",
         "type": "float"
        },
        {
         "name": "centroid-0",
         "rawType": "float64",
         "type": "float"
        },
        {
         "name": "centroid-1",
         "rawType": "float64",
         "type": "float"
        },
        {
         "name": "major_axis_length",
         "rawType": "float64",
         "type": "float"
        },
        {
         "name": "minor_axis_length",
         "rawType": "float64",
         "type": "float"
        },
        {
         "name": "orientation",
         "rawType": "float64",
         "type": "float"
        },
        {
         "name": "perimeter",
         "rawType": "float64",
         "type": "float"
        },
        {
         "name": "max_intensity-0",
         "rawType": "float64",
         "type": "float"
        },
        {
         "name": "max_intensity-1",
         "rawType": "float64",
         "type": "float"
        },
        {
         "name": "max_intensity-2",
         "rawType": "float64",
         "type": "float"
        },
        {
         "name": "mean_intensity-0",
         "rawType": "float64",
         "type": "float"
        },
        {
         "name": "mean_intensity-1",
         "rawType": "float64",
         "type": "float"
        },
        {
         "name": "mean_intensity-2",
         "rawType": "float64",
         "type": "float"
        },
        {
         "name": "min_intensity-0",
         "rawType": "float64",
         "type": "float"
        },
        {
         "name": "min_intensity-1",
         "rawType": "float64",
         "type": "float"
        },
        {
         "name": "min_intensity-2",
         "rawType": "float64",
         "type": "float"
        }
       ],
       "conversionMethod": "pd.DataFrame",
       "ref": "1096a93b-e1fd-42e2-97a1-882c39781570",
       "rows": [
        [
         "0",
         "1",
         "0.8584203233634641",
         "863.9250632911393",
         "25.70632911392405",
         "1.7102834717050641",
         "0.8384689841214513",
         "1.0945893155195288",
         "4.589185374639903",
         "253.0",
         "255.0",
         "255.0",
         "169.55493670886077",
         "175.0941772151899",
         "171.14582278481012",
         "0.0",
         "0.0",
         "0.0"
        ],
        [
         "1",
         "2",
         "0.20515159120382534",
         "151.87923728813558",
         "916.9025423728814",
         "0.7826148582169867",
         "0.3949148820253439",
         "0.8006884098961637",
         "2.09666285735342",
         "116.0",
         "130.0",
         "141.0",
         "28.425847457627118",
         "32.32627118644068",
         "34.31991525423729",
         "0.0",
         "0.0",
         "0.0"
        ],
        [
         "2",
         "3",
         "0.6419680089153602",
         "553.5470548408937",
         "1255.3019634394043",
         "0.9862162581502506",
         "0.8825183240247911",
         "-0.07519074767533176",
         "3.313006493659184",
         "235.0",
         "233.0",
         "210.0",
         "143.44211238997968",
         "138.88828706838186",
         "123.95531482735274",
         "4.0",
         "4.0",
         "4.0"
        ],
        [
         "3",
         "4",
         "0.4011756751718873",
         "589.8894907908992",
         "901.6002166847237",
         "1.1020452713668225",
         "0.5036461272981865",
         "1.4037382943679397",
         "2.817710731938956",
         "234.0",
         "218.0",
         "195.0",
         "76.78439869989165",
         "63.48320693391116",
         "51.79306608884074",
         "3.0",
         "2.0",
         "0.0"
        ],
        [
         "4",
         "5",
         "0.2899070155359142",
         "691.8755622188905",
         "1244.0314842578712",
         "1.5319996701156358",
         "0.3885418700063811",
         "1.141661024308499",
         "3.467705850293036",
         "115.0",
         "124.0",
         "123.0",
         "19.632683658170915",
         "28.26086956521739",
         "34.64617691154423",
         "0.0",
         "0.0",
         "0.0"
        ]
       ],
       "shape": {
        "columns": 17,
        "rows": 5
       }
      },
      "text/html": [
       "<div>\n",
       "<style scoped>\n",
       "    .dataframe tbody tr th:only-of-type {\n",
       "        vertical-align: middle;\n",
       "    }\n",
       "\n",
       "    .dataframe tbody tr th {\n",
       "        vertical-align: top;\n",
       "    }\n",
       "\n",
       "    .dataframe thead th {\n",
       "        text-align: right;\n",
       "    }\n",
       "</style>\n",
       "<table border=\"1\" class=\"dataframe\">\n",
       "  <thead>\n",
       "    <tr style=\"text-align: right;\">\n",
       "      <th></th>\n",
       "      <th>label</th>\n",
       "      <th>area</th>\n",
       "      <th>centroid-0</th>\n",
       "      <th>centroid-1</th>\n",
       "      <th>major_axis_length</th>\n",
       "      <th>minor_axis_length</th>\n",
       "      <th>orientation</th>\n",
       "      <th>perimeter</th>\n",
       "      <th>max_intensity-0</th>\n",
       "      <th>max_intensity-1</th>\n",
       "      <th>max_intensity-2</th>\n",
       "      <th>mean_intensity-0</th>\n",
       "      <th>mean_intensity-1</th>\n",
       "      <th>mean_intensity-2</th>\n",
       "      <th>min_intensity-0</th>\n",
       "      <th>min_intensity-1</th>\n",
       "      <th>min_intensity-2</th>\n",
       "    </tr>\n",
       "  </thead>\n",
       "  <tbody>\n",
       "    <tr>\n",
       "      <th>0</th>\n",
       "      <td>1</td>\n",
       "      <td>0.858420</td>\n",
       "      <td>863.925063</td>\n",
       "      <td>25.706329</td>\n",
       "      <td>1.710283</td>\n",
       "      <td>0.838469</td>\n",
       "      <td>1.094589</td>\n",
       "      <td>4.589185</td>\n",
       "      <td>253.0</td>\n",
       "      <td>255.0</td>\n",
       "      <td>255.0</td>\n",
       "      <td>169.554937</td>\n",
       "      <td>175.094177</td>\n",
       "      <td>171.145823</td>\n",
       "      <td>0.0</td>\n",
       "      <td>0.0</td>\n",
       "      <td>0.0</td>\n",
       "    </tr>\n",
       "    <tr>\n",
       "      <th>1</th>\n",
       "      <td>2</td>\n",
       "      <td>0.205152</td>\n",
       "      <td>151.879237</td>\n",
       "      <td>916.902542</td>\n",
       "      <td>0.782615</td>\n",
       "      <td>0.394915</td>\n",
       "      <td>0.800688</td>\n",
       "      <td>2.096663</td>\n",
       "      <td>116.0</td>\n",
       "      <td>130.0</td>\n",
       "      <td>141.0</td>\n",
       "      <td>28.425847</td>\n",
       "      <td>32.326271</td>\n",
       "      <td>34.319915</td>\n",
       "      <td>0.0</td>\n",
       "      <td>0.0</td>\n",
       "      <td>0.0</td>\n",
       "    </tr>\n",
       "    <tr>\n",
       "      <th>2</th>\n",
       "      <td>3</td>\n",
       "      <td>0.641968</td>\n",
       "      <td>553.547055</td>\n",
       "      <td>1255.301963</td>\n",
       "      <td>0.986216</td>\n",
       "      <td>0.882518</td>\n",
       "      <td>-0.075191</td>\n",
       "      <td>3.313006</td>\n",
       "      <td>235.0</td>\n",
       "      <td>233.0</td>\n",
       "      <td>210.0</td>\n",
       "      <td>143.442112</td>\n",
       "      <td>138.888287</td>\n",
       "      <td>123.955315</td>\n",
       "      <td>4.0</td>\n",
       "      <td>4.0</td>\n",
       "      <td>4.0</td>\n",
       "    </tr>\n",
       "    <tr>\n",
       "      <th>3</th>\n",
       "      <td>4</td>\n",
       "      <td>0.401176</td>\n",
       "      <td>589.889491</td>\n",
       "      <td>901.600217</td>\n",
       "      <td>1.102045</td>\n",
       "      <td>0.503646</td>\n",
       "      <td>1.403738</td>\n",
       "      <td>2.817711</td>\n",
       "      <td>234.0</td>\n",
       "      <td>218.0</td>\n",
       "      <td>195.0</td>\n",
       "      <td>76.784399</td>\n",
       "      <td>63.483207</td>\n",
       "      <td>51.793066</td>\n",
       "      <td>3.0</td>\n",
       "      <td>2.0</td>\n",
       "      <td>0.0</td>\n",
       "    </tr>\n",
       "    <tr>\n",
       "      <th>4</th>\n",
       "      <td>5</td>\n",
       "      <td>0.289907</td>\n",
       "      <td>691.875562</td>\n",
       "      <td>1244.031484</td>\n",
       "      <td>1.532000</td>\n",
       "      <td>0.388542</td>\n",
       "      <td>1.141661</td>\n",
       "      <td>3.467706</td>\n",
       "      <td>115.0</td>\n",
       "      <td>124.0</td>\n",
       "      <td>123.0</td>\n",
       "      <td>19.632684</td>\n",
       "      <td>28.260870</td>\n",
       "      <td>34.646177</td>\n",
       "      <td>0.0</td>\n",
       "      <td>0.0</td>\n",
       "      <td>0.0</td>\n",
       "    </tr>\n",
       "  </tbody>\n",
       "</table>\n",
       "</div>"
      ],
      "text/plain": [
       "   label      area  centroid-0   centroid-1  major_axis_length  \\\n",
       "0      1  0.858420  863.925063    25.706329           1.710283   \n",
       "1      2  0.205152  151.879237   916.902542           0.782615   \n",
       "2      3  0.641968  553.547055  1255.301963           0.986216   \n",
       "3      4  0.401176  589.889491   901.600217           1.102045   \n",
       "4      5  0.289907  691.875562  1244.031484           1.532000   \n",
       "\n",
       "   minor_axis_length  orientation  perimeter  max_intensity-0  \\\n",
       "0           0.838469     1.094589   4.589185            253.0   \n",
       "1           0.394915     0.800688   2.096663            116.0   \n",
       "2           0.882518    -0.075191   3.313006            235.0   \n",
       "3           0.503646     1.403738   2.817711            234.0   \n",
       "4           0.388542     1.141661   3.467706            115.0   \n",
       "\n",
       "   max_intensity-1  max_intensity-2  mean_intensity-0  mean_intensity-1  \\\n",
       "0            255.0            255.0        169.554937        175.094177   \n",
       "1            130.0            141.0         28.425847         32.326271   \n",
       "2            233.0            210.0        143.442112        138.888287   \n",
       "3            218.0            195.0         76.784399         63.483207   \n",
       "4            124.0            123.0         19.632684         28.260870   \n",
       "\n",
       "   mean_intensity-2  min_intensity-0  min_intensity-1  min_intensity-2  \n",
       "0        171.145823              0.0              0.0              0.0  \n",
       "1         34.319915              0.0              0.0              0.0  \n",
       "2        123.955315              4.0              4.0              4.0  \n",
       "3         51.793066              3.0              2.0              0.0  \n",
       "4         34.646177              0.0              0.0              0.0  "
      ]
     },
     "execution_count": 16,
     "metadata": {},
     "output_type": "execute_result"
    }
   ],
   "source": [
    "grain_data.head()"
   ]
  },
  {
   "cell_type": "code",
   "execution_count": 17,
   "id": "5a701881-07fa-4662-aafa-d432661fafff",
   "metadata": {},
   "outputs": [],
   "source": [
    "grain_data.to_csv(fname[:-4]+'.csv') # save grain data to CSV file"
   ]
  },
  {
   "cell_type": "code",
   "execution_count": null,
   "id": "a8663eef",
   "metadata": {
    "execution": {
     "iopub.execute_input": "2024-12-15T21:30:19.433084Z",
     "iopub.status.busy": "2024-12-15T21:30:19.432525Z",
     "iopub.status.idle": "2024-12-15T21:30:19.519229Z",
     "shell.execute_reply": "2024-12-15T21:30:19.518066Z",
     "shell.execute_reply.started": "2024-12-15T21:30:19.433047Z"
    }
   },
   "outputs": [],
   "source": [
    "# plot histogram of grain axis lengths\n",
    "# note that input data needs to be in milimeters\n",
    "fig, ax = seg.plot_histogram_of_axis_lengths(\n",
    "    grain_data['major_axis_length'], grain_data['minor_axis_length'],\n",
    "    binsize=0.2, xlimits=[0.25, 4])"
   ]
  },
  {
   "cell_type": "markdown",
   "id": "039415c6",
   "metadata": {},
   "source": [
    "## Save mask and grain labels to PNG files"
   ]
  },
  {
   "cell_type": "code",
   "execution_count": null,
   "id": "c4962ba6",
   "metadata": {
    "execution": {
     "iopub.execute_input": "2025-01-24T02:05:34.692332Z",
     "iopub.status.busy": "2025-01-24T02:05:34.691926Z",
     "iopub.status.idle": "2025-01-24T02:05:34.756696Z",
     "shell.execute_reply": "2025-01-24T02:05:34.756394Z",
     "shell.execute_reply.started": "2025-01-24T02:05:34.692302Z"
    }
   },
   "outputs": [
    {
     "name": "stderr",
     "output_type": "stream",
     "text": [
      "[ WARN:0@203.635] global loadsave.cpp:848 imwrite_ Unsupported depth image for selected encoder is fallbacked to CV_8U.\n"
     ]
    },
    {
     "data": {
      "text/plain": [
       "True"
      ]
     },
     "execution_count": 19,
     "metadata": {},
     "output_type": "execute_result"
    }
   ],
   "source": [
    "dirname = './examples/torrey_pines_beach/'\n",
    "# write grayscale mask to PNG file\n",
    "cv2.imwrite(dirname + fname.split('/')[-1][:-4] + '_mask.png', mask_all)\n",
    "# Save the image as a PNG file\n",
    "cv2.imwrite(dirname + fname.split('/')[-1][:-4] + '_image.png',\n",
    "    cv2.cvtColor(image, cv2.COLOR_BGR2RGB))"
   ]
  },
  {
   "cell_type": "markdown",
   "id": "77db7f2b-7718-4466-a1d8-41aa3d3d0803",
   "metadata": {},
   "source": [
    "## Run segmentation on large image (new!)\n",
    "In this case 'fname' points to an image that is larger than a few megapixels and has thousands of grains.\n",
    "The 'predict_large_image' function breaks the input image into smaller patches and it runs the segmentation process on each patch.\n",
    "\n",
    "The image used below (from [Mair et al., 2022, Earth Surface Dynamics](https://esurf.copernicus.org/articles/10/953/2022/)) is available [here](https://github.com/zsylvester/segmenteverygrain/blob/main/mair_et_al_L2_DJI_0382_image.jpg)."
   ]
  },
  {
   "cell_type": "code",
   "execution_count": 22,
   "id": "90eed72b-4cad-409a-b7bf-bbad0e5dfa74",
   "metadata": {},
   "outputs": [
    {
     "name": "stdout",
     "output_type": "stream",
     "text": [
      "segmenting image tiles...\n"
     ]
    },
    {
     "name": "stderr",
     "output_type": "stream",
     "text": [
      "100%|██████████| 9/9 [00:07<00:00,  1.18it/s]\n",
      "100%|██████████| 8/8 [00:06<00:00,  1.17it/s]\n"
     ]
    },
    {
     "name": "stdout",
     "output_type": "stream",
     "text": [
      "creating masks using SAM...\n"
     ]
    },
    {
     "name": "stderr",
     "output_type": "stream",
     "text": [
      "100%|██████████| 2804/2804 [05:00<00:00,  9.33it/s]\n"
     ]
    },
    {
     "name": "stdout",
     "output_type": "stream",
     "text": [
      "finding overlapping polygons...\n"
     ]
    },
    {
     "name": "stderr",
     "output_type": "stream",
     "text": [
      "2537it [00:13, 188.53it/s]\n"
     ]
    },
    {
     "name": "stdout",
     "output_type": "stream",
     "text": [
      "finding best polygons...\n"
     ]
    },
    {
     "name": "stderr",
     "output_type": "stream",
     "text": [
      "100%|██████████| 1021/1021 [00:52<00:00, 19.34it/s]\n"
     ]
    },
    {
     "name": "stdout",
     "output_type": "stream",
     "text": [
      "creating labeled image...\n",
      "processed patch #1 out of 6 patches\n",
      "segmenting image tiles...\n"
     ]
    },
    {
     "name": "stderr",
     "output_type": "stream",
     "text": [
      "100%|██████████| 9/9 [00:07<00:00,  1.18it/s]\n",
      "100%|██████████| 8/8 [00:06<00:00,  1.18it/s]\n"
     ]
    },
    {
     "name": "stdout",
     "output_type": "stream",
     "text": [
      "creating masks using SAM...\n"
     ]
    },
    {
     "name": "stderr",
     "output_type": "stream",
     "text": [
      "100%|██████████| 1996/1996 [03:36<00:00,  9.20it/s]\n"
     ]
    },
    {
     "name": "stdout",
     "output_type": "stream",
     "text": [
      "finding overlapping polygons...\n"
     ]
    },
    {
     "name": "stderr",
     "output_type": "stream",
     "text": [
      "1766it [00:13, 127.02it/s]\n"
     ]
    },
    {
     "name": "stdout",
     "output_type": "stream",
     "text": [
      "finding best polygons...\n"
     ]
    },
    {
     "name": "stderr",
     "output_type": "stream",
     "text": [
      "100%|██████████| 666/666 [00:29<00:00, 22.26it/s]\n"
     ]
    },
    {
     "name": "stdout",
     "output_type": "stream",
     "text": [
      "creating labeled image...\n",
      "processed patch #2 out of 6 patches\n",
      "segmenting image tiles...\n"
     ]
    },
    {
     "name": "stderr",
     "output_type": "stream",
     "text": [
      "100%|██████████| 9/9 [00:07<00:00,  1.14it/s]\n",
      "100%|██████████| 8/8 [00:07<00:00,  1.14it/s]\n"
     ]
    },
    {
     "name": "stdout",
     "output_type": "stream",
     "text": [
      "creating masks using SAM...\n"
     ]
    },
    {
     "name": "stderr",
     "output_type": "stream",
     "text": [
      "100%|██████████| 1757/1757 [02:57<00:00,  9.90it/s]\n"
     ]
    },
    {
     "name": "stdout",
     "output_type": "stream",
     "text": [
      "finding overlapping polygons...\n"
     ]
    },
    {
     "name": "stderr",
     "output_type": "stream",
     "text": [
      "1545it [00:12, 122.48it/s]\n"
     ]
    },
    {
     "name": "stdout",
     "output_type": "stream",
     "text": [
      "finding best polygons...\n"
     ]
    },
    {
     "name": "stderr",
     "output_type": "stream",
     "text": [
      "100%|██████████| 581/581 [00:23<00:00, 25.10it/s]\n"
     ]
    },
    {
     "name": "stdout",
     "output_type": "stream",
     "text": [
      "creating labeled image...\n",
      "processed patch #3 out of 6 patches\n",
      "segmenting image tiles...\n"
     ]
    },
    {
     "name": "stderr",
     "output_type": "stream",
     "text": [
      "100%|██████████| 9/9 [00:07<00:00,  1.16it/s]\n",
      "100%|██████████| 8/8 [00:06<00:00,  1.15it/s]\n"
     ]
    },
    {
     "name": "stdout",
     "output_type": "stream",
     "text": [
      "creating masks using SAM...\n"
     ]
    },
    {
     "name": "stderr",
     "output_type": "stream",
     "text": [
      "100%|██████████| 3173/3173 [05:18<00:00,  9.95it/s]\n"
     ]
    },
    {
     "name": "stdout",
     "output_type": "stream",
     "text": [
      "finding overlapping polygons...\n"
     ]
    },
    {
     "name": "stderr",
     "output_type": "stream",
     "text": [
      "2941it [00:10, 270.81it/s]\n"
     ]
    },
    {
     "name": "stdout",
     "output_type": "stream",
     "text": [
      "finding best polygons...\n"
     ]
    },
    {
     "name": "stderr",
     "output_type": "stream",
     "text": [
      "100%|██████████| 1250/1250 [01:10<00:00, 17.66it/s]\n"
     ]
    },
    {
     "name": "stdout",
     "output_type": "stream",
     "text": [
      "creating labeled image...\n",
      "processed patch #4 out of 6 patches\n",
      "segmenting image tiles...\n"
     ]
    },
    {
     "name": "stderr",
     "output_type": "stream",
     "text": [
      "100%|██████████| 9/9 [00:07<00:00,  1.14it/s]\n",
      "100%|██████████| 8/8 [00:06<00:00,  1.17it/s]\n"
     ]
    },
    {
     "name": "stdout",
     "output_type": "stream",
     "text": [
      "creating masks using SAM...\n"
     ]
    },
    {
     "name": "stderr",
     "output_type": "stream",
     "text": [
      "100%|██████████| 2041/2041 [03:36<00:00,  9.45it/s]\n"
     ]
    },
    {
     "name": "stdout",
     "output_type": "stream",
     "text": [
      "finding overlapping polygons...\n"
     ]
    },
    {
     "name": "stderr",
     "output_type": "stream",
     "text": [
      "1811it [00:12, 142.33it/s]\n"
     ]
    },
    {
     "name": "stdout",
     "output_type": "stream",
     "text": [
      "finding best polygons...\n"
     ]
    },
    {
     "name": "stderr",
     "output_type": "stream",
     "text": [
      "100%|██████████| 693/693 [00:31<00:00, 21.85it/s]\n"
     ]
    },
    {
     "name": "stdout",
     "output_type": "stream",
     "text": [
      "creating labeled image...\n",
      "processed patch #5 out of 6 patches\n",
      "segmenting image tiles...\n"
     ]
    },
    {
     "name": "stderr",
     "output_type": "stream",
     "text": [
      "100%|██████████| 9/9 [00:07<00:00,  1.16it/s]\n",
      "100%|██████████| 8/8 [00:06<00:00,  1.17it/s]\n"
     ]
    },
    {
     "name": "stdout",
     "output_type": "stream",
     "text": [
      "creating masks using SAM...\n"
     ]
    },
    {
     "name": "stderr",
     "output_type": "stream",
     "text": [
      "100%|██████████| 1662/1662 [02:38<00:00, 10.46it/s]\n"
     ]
    },
    {
     "name": "stdout",
     "output_type": "stream",
     "text": [
      "finding overlapping polygons...\n"
     ]
    },
    {
     "name": "stderr",
     "output_type": "stream",
     "text": [
      "1436it [00:13, 103.43it/s]\n"
     ]
    },
    {
     "name": "stdout",
     "output_type": "stream",
     "text": [
      "finding best polygons...\n"
     ]
    },
    {
     "name": "stderr",
     "output_type": "stream",
     "text": [
      "100%|██████████| 519/519 [00:22<00:00, 23.52it/s]\n"
     ]
    },
    {
     "name": "stdout",
     "output_type": "stream",
     "text": [
      "creating labeled image...\n",
      "processed patch #6 out of 6 patches\n"
     ]
    },
    {
     "name": "stderr",
     "output_type": "stream",
     "text": [
      "4753it [00:05, 831.37it/s] \n",
      "100%|██████████| 331/331 [02:01<00:00,  2.72it/s]\n"
     ]
    }
   ],
   "source": [
    "from PIL import Image\n",
    "Image.MAX_IMAGE_PIXELS = None # needed if working with very large images\n",
    "fname = \"./examples/mair_et_al_L2_DJI_0382/mair_et_al_L2_DJI_0382_image.jpg\"\n",
    "all_grains, image_pred, all_coords = seg.predict_large_image(\n",
    "    fname, unet, sam, min_area=400.0, patch_size=2000, overlap=200)"
   ]
  },
  {
   "cell_type": "code",
   "execution_count": 23,
   "id": "d1e52b04-e54e-44e6-8061-b8d0c0c76970",
   "metadata": {},
   "outputs": [
    {
     "name": "stderr",
     "output_type": "stream",
     "text": [
      "100%|██████████| 4399/4399 [00:28<00:00, 153.01it/s]\n"
     ]
    }
   ],
   "source": [
    "# plot results\n",
    "image = np.array(load_img(fname))\n",
    "fig, ax = plt.subplots(figsize=(15,10))\n",
    "plt.xticks([])\n",
    "plt.yticks([])\n",
    "seg.plot_image_w_colorful_grains(image, all_grains, ax, cmap='Paired')\n",
    "plt.axis('equal')\n",
    "plt.xlim([0, np.shape(image)[1]])\n",
    "plt.ylim([np.shape(image)[0], 0]);"
   ]
  },
  {
   "cell_type": "code",
   "execution_count": 24,
   "id": "4dae73a8-f9ce-4fb9-8661-19d4c03340f3",
   "metadata": {},
   "outputs": [],
   "source": [
    "# this is a faster way of deleting false positives (because it avoids highlighting and deleting the 'bad' grains)\n",
    "grain_inds = []\n",
    "cid1 = fig.canvas.mpl_connect('button_press_event',\n",
    "    lambda event: seg.onclick2(event, all_grains, grain_inds, ax=ax, select_only=True))"
   ]
  },
  {
   "cell_type": "code",
   "execution_count": 25,
   "id": "98b9650b-c6d9-4c23-85cc-b0234f3d2b2b",
   "metadata": {},
   "outputs": [
    {
     "name": "stderr",
     "output_type": "stream",
     "text": [
      "0it [00:00, ?it/s]\n"
     ]
    }
   ],
   "source": [
    "# delete polygons from 'all_grains'\n",
    "grain_inds = np.unique(grain_inds)\n",
    "grain_inds = sorted(grain_inds, reverse=True)\n",
    "for ind in tqdm(grain_inds):\n",
    "    all_grains.remove(all_grains[ind])"
   ]
  },
  {
   "cell_type": "markdown",
   "id": "74b9e579-8c81-4baf-9262-eb4b1584c646",
   "metadata": {},
   "source": [
    "After plotting the results, you will want to use the functions for deleting, merging, and adding grains (see above), before saving the results (same workflow as for a small image)."
   ]
  },
  {
   "cell_type": "markdown",
   "id": "d25703e4-2a4e-4e98-aa49-ff9b816b2ec0",
   "metadata": {},
   "source": [
    "### Finetuning the base model"
   ]
  },
  {
   "cell_type": "code",
   "execution_count": null,
   "id": "396f62c8-be0f-47fe-b660-2c55e2d51d42",
   "metadata": {},
   "outputs": [],
   "source": [
    "# patchify images and masks\n",
    "input_dir = \"./examples/unet_training/Masks_and_images/\" # the input directory should contain files with 'image' and 'mask' in their filenames\n",
    "patch_dir = \"./examples/unet_training/\" # a directory called \"Patches\" will be created here\n",
    "image_dir, mask_dir = seg.patchify_training_data(input_dir, patch_dir)"
   ]
  },
  {
   "cell_type": "code",
   "execution_count": null,
   "id": "05f98137-2dfd-4b88-8dc5-e4e79fa343ad",
   "metadata": {},
   "outputs": [],
   "source": [
    "# create training, validation, and test datasets\n",
    "train_dataset, val_dataset, test_dataset = seg.create_train_val_test_data(\n",
    "    image_dir, mask_dir, augmentation=True)"
   ]
  },
  {
   "cell_type": "code",
   "execution_count": null,
   "id": "43650ad9-c2e5-4fc2-856f-4f39b8f1d9e3",
   "metadata": {},
   "outputs": [],
   "source": [
    "# load base model weights and train the model with the new data\n",
    "model = seg.create_and_train_model(train_dataset, val_dataset, test_dataset, model_file='./models/seg_model.keras', epochs=100)"
   ]
  },
  {
   "cell_type": "code",
   "execution_count": null,
   "id": "41375c1f-5f16-496f-b5e8-497626eb89dc",
   "metadata": {},
   "outputs": [],
   "source": [
    "# save finetuned model as new model (this then can be loaded using \"model = load_model(\"new_model.keras\", custom_objects={'weighted_crossentropy': seg.weighted_crossentropy})\"\n",
    "model.save('./examples/unet_training/new_model.keras')"
   ]
  }
 ],
 "metadata": {
  "kernelspec": {
   "display_name": "segmenteverygrain",
   "language": "python",
   "name": "python3"
  },
  "language_info": {
   "codemirror_mode": {
    "name": "ipython",
    "version": 3
   },
   "file_extension": ".py",
   "mimetype": "text/x-python",
   "name": "python",
   "nbconvert_exporter": "python",
   "pygments_lexer": "ipython3",
   "version": "3.9.20"
  }
 },
 "nbformat": 4,
 "nbformat_minor": 5
}
